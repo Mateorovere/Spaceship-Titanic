{
  "nbformat": 4,
  "nbformat_minor": 0,
  "metadata": {
    "colab": {
      "provenance": [],
      "authorship_tag": "ABX9TyNXWsUHQvnW8vaQtkLF62lM",
      "include_colab_link": true
    },
    "kernelspec": {
      "name": "python3",
      "display_name": "Python 3"
    },
    "language_info": {
      "name": "python"
    }
  },
  "cells": [
    {
      "cell_type": "markdown",
      "metadata": {
        "id": "view-in-github",
        "colab_type": "text"
      },
      "source": [
        "<a href=\"https://colab.research.google.com/github/Mateorovere/Spaceship-Titanic/blob/main/Spaceship_Titanic.ipynb\" target=\"_parent\"><img src=\"https://colab.research.google.com/assets/colab-badge.svg\" alt=\"Open In Colab\"/></a>"
      ]
    },
    {
      "cell_type": "code",
      "execution_count": 5,
      "metadata": {
        "id": "qJhtsNWZs11o"
      },
      "outputs": [],
      "source": [
        "#task is to predict whether a passenger was transported to an alternate dimension during the Spaceship Titanic's collision with the spacetime anomaly\n",
        "import pandas as pd\n",
        "from sklearn.model_selection import train_test_split\n",
        "from sklearn.ensemble import RandomForestRegressor\n",
        "from sklearn.metrics import mean_absolute_error\n",
        "\n",
        "X = pd.read_csv('train.csv',index_col='PassengerId')\n",
        "y_test = pd.read_csv('test.csv',index_col='PassengerId')\n",
        "y = X.Transported\n",
        "X.drop(['Name','Transported'],axis=1,inplace=True) #i droped it because i would guess that the name has nothing to do with this problem\n",
        "\n",
        "# Break off validation set from training data\n",
        "X_train, X_valid, y_train, y_valid = train_test_split(X, y, train_size=0.85, test_size=0.15, random_state=0)"
      ]
    },
    {
      "cell_type": "code",
      "source": [
        "object_cols = [cname for cname in X.columns if X[cname].dtype == \"object\"]\n",
        "numerical_cols = [cname for cname in X.columns if X[cname].dtype in ['int64', 'float64']]\n",
        "categorical_cols = [cname for cname in X.columns if X[cname].nunique() < 10 and  X[cname].dtype == \"object\"] #with low cardinality"
      ],
      "metadata": {
        "id": "8saLGsWKYwyG"
      },
      "execution_count": 6,
      "outputs": []
    },
    {
      "cell_type": "markdown",
      "source": [
        "#Doing the preprocessing separated"
      ],
      "metadata": {
        "id": "cFxRTi1zF86r"
      }
    },
    {
      "cell_type": "code",
      "source": [
        "from sklearn.preprocessing import OneHotEncoder\n",
        "OH = OneHotEncoder(handle_unknown='ignore', sparse=False)\n",
        "OH_X_train = pd.DataFrame(OH.fit_transform(X_train[categorical_cols]))\n",
        "OH_X_valid = pd.DataFrame(OH.transform(X_valid[categorical_cols]))\n",
        "\n",
        "OH_X_train.index = X_train.index\n",
        "OH_X_valid.index = X_valid.index\n",
        "\n",
        "num_X_train = X_train.drop(object_cols, axis=1)\n",
        "num_X_valid = X_valid.drop(object_cols, axis=1)\n",
        "\n",
        "OH_X_train = pd.concat([num_X_train, OH_X_train], axis=1)\n",
        "OH_X_valid = pd.concat([num_X_valid, OH_X_valid], axis=1)\n",
        "### this block could be erased because i did a pipeline later on, but is usful to remember how it was done"
      ],
      "metadata": {
        "id": "KiRxfk0pPoPZ"
      },
      "execution_count": 7,
      "outputs": []
    },
    {
      "cell_type": "code",
      "source": [
        "from sklearn.impute import SimpleImputer\n",
        "\n",
        "# Imputation\n",
        "my_imputer = SimpleImputer()\n",
        "imputed_X_train = pd.DataFrame(my_imputer.fit_transform(OH_X_train))\n",
        "imputed_X_valid = pd.DataFrame(my_imputer.transform(OH_X_valid))\n",
        "\n",
        "# Imputation removed column names; put them back\n",
        "imputed_X_train.columns = OH_X_train.columns\n",
        "imputed_X_valid.columns = OH_X_valid.columns\n",
        "### this block could be erased because i did a pipeline later on"
      ],
      "metadata": {
        "id": "OijQFLZ0PGop",
        "colab": {
          "base_uri": "https://localhost:8080/"
        },
        "outputId": "6ce64ce2-263f-4116-ff22-3b1c057f54a2"
      },
      "execution_count": 8,
      "outputs": [
        {
          "output_type": "stream",
          "name": "stderr",
          "text": [
            "/usr/local/lib/python3.8/dist-packages/sklearn/utils/validation.py:1688: FutureWarning: Feature names only support names that are all strings. Got feature names with dtypes: ['int', 'str']. An error will be raised in 1.2.\n",
            "  warnings.warn(\n",
            "/usr/local/lib/python3.8/dist-packages/sklearn/utils/validation.py:1688: FutureWarning: Feature names only support names that are all strings. Got feature names with dtypes: ['int', 'str']. An error will be raised in 1.2.\n",
            "  warnings.warn(\n",
            "/usr/local/lib/python3.8/dist-packages/sklearn/utils/validation.py:1688: FutureWarning: Feature names only support names that are all strings. Got feature names with dtypes: ['int', 'str']. An error will be raised in 1.2.\n",
            "  warnings.warn(\n"
          ]
        }
      ]
    },
    {
      "cell_type": "code",
      "source": [
        "def score_dataset(X_train, X_valid, y_train, y_valid):\n",
        "    model = RandomForestRegressor(n_estimators=100, random_state=0)\n",
        "    model.fit(X_train, y_train)\n",
        "    preds = model.predict(X_valid)\n",
        "    return mean_absolute_error(y_valid, preds)"
      ],
      "metadata": {
        "id": "s3nx17Nngdh2"
      },
      "execution_count": 9,
      "outputs": []
    },
    {
      "cell_type": "code",
      "source": [
        "score_dataset(imputed_X_train,imputed_X_valid,y_train,y_valid)"
      ],
      "metadata": {
        "colab": {
          "base_uri": "https://localhost:8080/"
        },
        "id": "Tz4figS1iBAp",
        "outputId": "73c7ea61-7878-42c9-9715-5447c41b99ac"
      },
      "execution_count": 10,
      "outputs": [
        {
          "output_type": "stream",
          "name": "stderr",
          "text": [
            "/usr/local/lib/python3.8/dist-packages/sklearn/utils/validation.py:1688: FutureWarning: Feature names only support names that are all strings. Got feature names with dtypes: ['int', 'str']. An error will be raised in 1.2.\n",
            "  warnings.warn(\n",
            "/usr/local/lib/python3.8/dist-packages/sklearn/utils/validation.py:1688: FutureWarning: Feature names only support names that are all strings. Got feature names with dtypes: ['int', 'str']. An error will be raised in 1.2.\n",
            "  warnings.warn(\n"
          ]
        },
        {
          "output_type": "execute_result",
          "data": {
            "text/plain": [
              "0.28918365089577797"
            ]
          },
          "metadata": {},
          "execution_count": 10
        }
      ]
    },
    {
      "cell_type": "markdown",
      "source": [
        "# Vs doing the pipeline"
      ],
      "metadata": {
        "id": "IchN6edGGLDS"
      }
    },
    {
      "cell_type": "code",
      "source": [
        "from sklearn.compose import ColumnTransformer\n",
        "from sklearn.pipeline import Pipeline\n",
        "\n",
        "numerical_transformer = SimpleImputer(strategy='constant')\n",
        "\n",
        "# Preprocessing for categorical data\n",
        "categorical_transformer = Pipeline(steps=[\n",
        "    ('imputer', SimpleImputer(strategy='most_frequent')),\n",
        "    ('onehot', OneHotEncoder(handle_unknown='ignore'))\n",
        "])\n",
        "\n",
        "preprocessor = ColumnTransformer(\n",
        "    transformers=[\n",
        "        ('num', numerical_transformer, numerical_cols),\n",
        "        ('cat', categorical_transformer, categorical_cols)\n",
        "    ])\n",
        "\n",
        "# Keep selected columns only\n",
        "my_cols = categorical_cols + numerical_cols\n",
        "X_train2 = X_train[my_cols].copy()\n",
        "X_valid2 = X_valid[my_cols].copy()\n",
        "\n",
        "model = RandomForestRegressor(n_estimators=100, random_state=0)\n",
        "\n",
        "# Bundle preprocessing and modeling code in a pipeline\n",
        "my_pipeline = Pipeline(steps=[('preprocessor', preprocessor),\n",
        "                              ('model', model)\n",
        "                             ])\n",
        "\n"
      ],
      "metadata": {
        "id": "_wu-AdeDihSw"
      },
      "execution_count": 11,
      "outputs": []
    },
    {
      "cell_type": "code",
      "source": [
        "my_pipeline.fit(X_train, y_train)\n",
        "\n",
        "# Preprocessing of validation data, get predictions\n",
        "preds = my_pipeline.predict(X_valid)\n",
        "\n",
        "# Evaluate the model\n",
        "score = mean_absolute_error(y_valid, preds)\n",
        "print('MAE:', score)"
      ],
      "metadata": {
        "colab": {
          "base_uri": "https://localhost:8080/"
        },
        "id": "UZAXrpa8vvMG",
        "outputId": "2ca31d3e-ccc4-4bb4-b0c6-104b855f463c"
      },
      "execution_count": 12,
      "outputs": [
        {
          "output_type": "stream",
          "name": "stdout",
          "text": [
            "MAE: 0.2859889761005351\n"
          ]
        }
      ]
    },
    {
      "cell_type": "markdown",
      "source": [
        "#Cross validation"
      ],
      "metadata": {
        "id": "W-q947r4Hg7D"
      }
    },
    {
      "cell_type": "code",
      "source": [
        "#seeing if cross validation improves the accuracy\n",
        "from sklearn.model_selection import cross_val_score\n",
        "scores = -1 * cross_val_score(my_pipeline, X, y,\n",
        "                              cv=5,\n",
        "                              scoring='neg_mean_absolute_error')\n",
        "print(scores.mean())\n",
        "#and because the output MAE is lower, it means that it performed better"
      ],
      "metadata": {
        "colab": {
          "base_uri": "https://localhost:8080/"
        },
        "id": "jgleUXZMv_Jg",
        "outputId": "43da385e-3e99-46b7-f3e8-822ad035af2a"
      },
      "execution_count": 15,
      "outputs": [
        {
          "output_type": "stream",
          "name": "stdout",
          "text": [
            "0.2821823210209932\n"
          ]
        }
      ]
    },
    {
      "cell_type": "code",
      "source": [
        "#Now with xgboost to see if it improves as it should\n",
        "\n",
        "from xgboost import XGBRegressor\n",
        "\n",
        "my_model = XGBRegressor(n_estimators=700, learning_rate=0.015)\n",
        "my_model.fit(imputed_X_train, y_train)\n",
        "\n",
        "predictions = my_model.predict(imputed_X_valid) # Your code here\n",
        "\n",
        "# Calculate MAE\n",
        "mae = mean_absolute_error(predictions,y_valid)\n",
        "mae\n",
        "#surprisingly it didng go as expected because MAE is bigger than other alternatives"
      ],
      "metadata": {
        "colab": {
          "base_uri": "https://localhost:8080/"
        },
        "id": "CnUDQt5OxSyg",
        "outputId": "af54f2ef-b919-48d2-943f-66fae700b4ef"
      },
      "execution_count": null,
      "outputs": [
        {
          "output_type": "stream",
          "name": "stdout",
          "text": [
            "[02:31:31] WARNING: /workspace/src/objective/regression_obj.cu:152: reg:linear is now deprecated in favor of reg:squarederror.\n"
          ]
        },
        {
          "output_type": "execute_result",
          "data": {
            "text/plain": [
              "0.29860988"
            ]
          },
          "metadata": {},
          "execution_count": 23
        }
      ]
    }
  ]
}